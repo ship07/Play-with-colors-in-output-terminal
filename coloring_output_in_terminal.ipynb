{
  "nbformat": 4,
  "nbformat_minor": 0,
  "metadata": {
    "colab": {
      "name": "coloring_output_in_terminal.ipynb",
      "provenance": []
    },
    "kernelspec": {
      "name": "python3",
      "display_name": "Python 3"
    }
  },
  "cells": [
    {
      "cell_type": "markdown",
      "metadata": {
        "id": "-XUl42tr7x38",
        "colab_type": "text"
      },
      "source": [
        "# How to use Python dictionary?"
      ]
    },
    {
      "cell_type": "code",
      "metadata": {
        "id": "kdbfaobZ70kD",
        "colab_type": "code",
        "colab": {}
      },
      "source": [
        "!pip install PyDictionary"
      ],
      "execution_count": null,
      "outputs": []
    },
    {
      "cell_type": "code",
      "metadata": {
        "id": "UOcBcRNQxYZT",
        "colab_type": "code",
        "colab": {
          "base_uri": "https://localhost:8080/",
          "height": 54
        },
        "outputId": "37d34e3c-dd57-4c2c-987d-d05a81208b7e"
      },
      "source": [
        "from PyDictionary import PyDictionary\n",
        "dict=PyDictionary()\n",
        "meaning=dict.meaning('language')\n",
        "print(meaning)"
      ],
      "execution_count": 55,
      "outputs": [
        {
          "output_type": "stream",
          "text": [
            "{'Noun': ['a systematic means of communicating by the use of sounds or conventional symbols', '(language', 'the text of a popular song or musical-comedy number', 'the cognitive processes involved in producing and understanding linguistic communication', 'the mental faculty or power of vocal communication', 'a system of words used to name things in a particular discipline']}\n"
          ],
          "name": "stdout"
        }
      ]
    },
    {
      "cell_type": "markdown",
      "metadata": {
        "id": "z6S0dpOf8Cv_",
        "colab_type": "text"
      },
      "source": [
        "# How to print colored text in output?"
      ]
    },
    {
      "cell_type": "markdown",
      "metadata": {
        "id": "-u60Z_hn8du2",
        "colab_type": "text"
      },
      "source": [
        "## By using termcolor module"
      ]
    },
    {
      "cell_type": "code",
      "metadata": {
        "id": "lJJUyFEl4Icz",
        "colab_type": "code",
        "colab": {
          "base_uri": "https://localhost:8080/",
          "height": 34
        },
        "outputId": "2da63557-a953-4700-b779-55f336d3fc64"
      },
      "source": [
        "!pip install termcolor"
      ],
      "execution_count": 56,
      "outputs": [
        {
          "output_type": "stream",
          "text": [
            "Requirement already satisfied: termcolor in /usr/local/lib/python3.6/dist-packages (1.1.0)\n"
          ],
          "name": "stdout"
        }
      ]
    },
    {
      "cell_type": "code",
      "metadata": {
        "id": "UDBDweUm44AC",
        "colab_type": "code",
        "colab": {
          "base_uri": "https://localhost:8080/",
          "height": 34
        },
        "outputId": "e5ffe858-a1bc-4f1f-d397-5b82be926baa"
      },
      "source": [
        "from termcolor import colored,cprint\n",
        "text=colored('hello world','cyan')\n",
        "print(text)"
      ],
      "execution_count": 62,
      "outputs": [
        {
          "output_type": "stream",
          "text": [
            "\u001b[36mhello world\u001b[0m\n"
          ],
          "name": "stdout"
        }
      ]
    },
    {
      "cell_type": "code",
      "metadata": {
        "id": "4L-7Rjzb5Z8d",
        "colab_type": "code",
        "colab": {
          "base_uri": "https://localhost:8080/",
          "height": 34
        },
        "outputId": "ceebb725-794d-44dc-eaa6-1a23d802e3d4"
      },
      "source": [
        "cprint('hello world','magenta')"
      ],
      "execution_count": 63,
      "outputs": [
        {
          "output_type": "stream",
          "text": [
            "\u001b[35mhello world\u001b[0m\n"
          ],
          "name": "stdout"
        }
      ]
    },
    {
      "cell_type": "code",
      "metadata": {
        "id": "DRzWzKPT5aH7",
        "colab_type": "code",
        "colab": {
          "base_uri": "https://localhost:8080/",
          "height": 34
        },
        "outputId": "701bdc23-074d-4952-a6ff-b9046ddea824"
      },
      "source": [
        "cprint('hello world','red','on_yellow')"
      ],
      "execution_count": 64,
      "outputs": [
        {
          "output_type": "stream",
          "text": [
            "\u001b[43m\u001b[31mhello world\u001b[0m\n"
          ],
          "name": "stdout"
        }
      ]
    },
    {
      "cell_type": "markdown",
      "metadata": {
        "id": "e1mxWBHO8oK7",
        "colab_type": "text"
      },
      "source": [
        "## 1st column is **bold** and 2nd column is normal"
      ]
    },
    {
      "cell_type": "code",
      "metadata": {
        "id": "JvFleeIa5aZM",
        "colab_type": "code",
        "colab": {
          "base_uri": "https://localhost:8080/",
          "height": 102
        },
        "outputId": "44b16b16-034d-4545-83a5-249cff538c1c"
      },
      "source": [
        "for i in range(5):\n",
        "  cprint(i,'green',end=\" \",attrs=['bold'])\n",
        "  cprint(i,'green',)"
      ],
      "execution_count": 76,
      "outputs": [
        {
          "output_type": "stream",
          "text": [
            "\u001b[1m\u001b[32m0\u001b[0m \u001b[32m0\u001b[0m\n",
            "\u001b[1m\u001b[32m1\u001b[0m \u001b[32m1\u001b[0m\n",
            "\u001b[1m\u001b[32m2\u001b[0m \u001b[32m2\u001b[0m\n",
            "\u001b[1m\u001b[32m3\u001b[0m \u001b[32m3\u001b[0m\n",
            "\u001b[1m\u001b[32m4\u001b[0m \u001b[32m4\u001b[0m\n"
          ],
          "name": "stdout"
        }
      ]
    },
    {
      "cell_type": "markdown",
      "metadata": {
        "id": "kv-f_gKX82Vn",
        "colab_type": "text"
      },
      "source": [
        "## can use ANSI escape sequence "
      ]
    },
    {
      "cell_type": "code",
      "metadata": {
        "id": "7nGAo-1m7EI4",
        "colab_type": "code",
        "colab": {
          "base_uri": "https://localhost:8080/",
          "height": 34
        },
        "outputId": "0d25db76-f112-4910-c064-b5f0c723ad7c"
      },
      "source": [
        "print('\\033[95m'+\"hello people\")"
      ],
      "execution_count": 82,
      "outputs": [
        {
          "output_type": "stream",
          "text": [
            "\u001b[95mhello people\n"
          ],
          "name": "stdout"
        }
      ]
    },
    {
      "cell_type": "markdown",
      "metadata": {
        "id": "J1o-GTR_9Gei",
        "colab_type": "text"
      },
      "source": [
        "## some more sequence\n",
        "## \\033[91m\n",
        "## \\033[92m\n",
        "## \\033[93m\n",
        "## \\033[94m\n",
        "## \\033[95m\n",
        "## \\033[96m\n",
        "## \\033[97m\n",
        "## \\033[98m\n"
      ]
    },
    {
      "cell_type": "code",
      "metadata": {
        "id": "pqCV47w77EW8",
        "colab_type": "code",
        "colab": {}
      },
      "source": [
        ""
      ],
      "execution_count": null,
      "outputs": []
    }
  ]
}